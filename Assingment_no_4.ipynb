{
  "nbformat": 4,
  "nbformat_minor": 0,
  "metadata": {
    "colab": {
      "provenance": []
    },
    "kernelspec": {
      "name": "python3",
      "display_name": "Python 3"
    },
    "language_info": {
      "name": "python"
    }
  },
  "cells": [
    {
      "cell_type": "markdown",
      "source": [
        "1️⃣ Apna naam aik variable mein store karein aur loop ke zariye har character ko print karein."
      ],
      "metadata": {
        "id": "fsCy7fqBkx77"
      }
    },
    {
      "cell_type": "code",
      "execution_count": null,
      "metadata": {
        "colab": {
          "base_uri": "https://localhost:8080/"
        },
        "id": "r1XNzkdsifWl",
        "outputId": "47aceb72-623d-4895-afb2-1c1afe3bc13c"
      },
      "outputs": [
        {
          "output_type": "stream",
          "name": "stdout",
          "text": [
            "A,b,d,u,l,l,a,h,"
          ]
        }
      ],
      "source": [
        "my_name = \"Abdullah\"\n",
        "for harf in my_name:\n",
        "    print(harf,end=\",\")\n"
      ]
    },
    {
      "cell_type": "markdown",
      "source": [
        "2️⃣ Aik string ke pehlay 4 characters ko slicing ka istemal karte hue print karein."
      ],
      "metadata": {
        "id": "Kpao7034nBPz"
      }
    },
    {
      "cell_type": "code",
      "source": [
        "my_string=\"Abdullah\"\n",
        "print(my_string[:4])"
      ],
      "metadata": {
        "colab": {
          "base_uri": "https://localhost:8080/"
        },
        "id": "MHYIcQ9Qm_LT",
        "outputId": "d5aa5da9-d12b-40cc-8431-001aedc0dc6c"
      },
      "execution_count": null,
      "outputs": [
        {
          "output_type": "stream",
          "name": "stdout",
          "text": [
            "Abdu\n"
          ]
        }
      ]
    },
    {
      "cell_type": "markdown",
      "source": [
        "3️⃣ User se aik number string ki form mein input lein, usay int mein convert karein, us mein 10 add karein aur result print karein."
      ],
      "metadata": {
        "id": "ufH6gWhuoQw8"
      }
    },
    {
      "cell_type": "code",
      "source": [
        "num_string=\"25\"\n",
        "num_integer=int(num_string)\n",
        "result=(num_integer+10)\n",
        "print(result)"
      ],
      "metadata": {
        "colab": {
          "base_uri": "https://localhost:8080/"
        },
        "id": "aDxaYxnKoXXH",
        "outputId": "8af72c90-bc71-40b3-ae66-0a2b9671e19e"
      },
      "execution_count": null,
      "outputs": [
        {
          "output_type": "stream",
          "name": "stdout",
          "text": [
            "35\n"
          ]
        }
      ]
    },
    {
      "cell_type": "markdown",
      "source": [
        "4️⃣ Aik list banayein jisme strings hon jaise [\"10\", \"20\", \"30\"], in sab ko integers mein convert karein aur nayi list print karein.**bold text**"
      ],
      "metadata": {
        "id": "q_PmtYZtuIJu"
      }
    },
    {
      "cell_type": "code",
      "source": [
        "my_list=[\"11\",\"22\",\"33\",]\n",
        "my_int=[int(num)for num in my_list]\n",
        "print(my_int)"
      ],
      "metadata": {
        "colab": {
          "base_uri": "https://localhost:8080/"
        },
        "id": "0gxcgXkzuHfm",
        "outputId": "93808fa3-d41d-4a7c-bcdd-e632b5f16534"
      },
      "execution_count": null,
      "outputs": [
        {
          "output_type": "stream",
          "name": "stdout",
          "text": [
            "[11, 22, 33]\n"
          ]
        }
      ]
    },
    {
      "cell_type": "markdown",
      "source": [
        " 5️⃣Aik string mein check karein ke kya “Python” mojood hai ya nahi using in, aur message print karein"
      ],
      "metadata": {
        "id": "0Zeglvs9rjcW"
      }
    },
    {
      "cell_type": "code",
      "source": [
        "text = \"mujay python passand ha\"\n",
        "if \"python\" in text:\n",
        " print(\"G Python Text Ma Ha\")"
      ],
      "metadata": {
        "id": "CYGs66XHr99t",
        "colab": {
          "base_uri": "https://localhost:8080/"
        },
        "outputId": "1d475e0f-6bb7-482e-9a91-28148cd2984e"
      },
      "execution_count": null,
      "outputs": [
        {
          "output_type": "stream",
          "name": "stdout",
          "text": [
            "G Python Text Ma Ha\n"
          ]
        }
      ]
    },
    {
      "cell_type": "markdown",
      "source": [
        "6️⃣ Aik string banayein aur usay uppercase, lowercase, aur title case mein convert karein."
      ],
      "metadata": {
        "id": "ckiy9A1St7NN"
      }
    },
    {
      "cell_type": "code",
      "source": [
        "text=\"hello\"\n",
        "upper_text = text.upper()\n",
        "lower_text = text.lower()\n",
        "title_text = text.title()\n",
        "print(\"upper text=\",upper_text)\n",
        "print(\"lower text=\",lower_text)\n",
        "print(\"title text=\",title_text)\n",
        "\n"
      ],
      "metadata": {
        "colab": {
          "base_uri": "https://localhost:8080/"
        },
        "id": "L8L8I80JtGKP",
        "outputId": "196cabfa-10d0-45d3-d323-d0f584075679"
      },
      "execution_count": null,
      "outputs": [
        {
          "output_type": "stream",
          "name": "stdout",
          "text": [
            "upper text= HELLO\n",
            "lower text= hello\n",
            "title text= Hello\n"
          ]
        }
      ]
    },
    {
      "cell_type": "markdown",
      "source": [
        "7️⃣ type() ka istemal kar ke string se integer mein conversion se pehlay aur baad mein data type display karein."
      ],
      "metadata": {
        "id": "o7VsrwpwzPsD"
      }
    },
    {
      "cell_type": "code",
      "source": [
        "my_string=\"20\"\n",
        "print(\"type is my string =\",type(my_string))\n",
        "my_integer=int(my_string)\n",
        "print(\"type is my integer =\",type(my_integer))"
      ],
      "metadata": {
        "colab": {
          "base_uri": "https://localhost:8080/"
        },
        "id": "lokHZrUxwrfU",
        "outputId": "5f16043e-85b0-44f5-f236-09fa5265d0d6"
      },
      "execution_count": null,
      "outputs": [
        {
          "output_type": "stream",
          "name": "stdout",
          "text": [
            "type is my string = <class 'str'>\n",
            "type is my integer = <class 'int'>\n"
          ]
        }
      ]
    },
    {
      "cell_type": "markdown",
      "source": [
        "8️⃣ User se naam aur age input lein. Age ko int mein convert karein, agar age 18 se zyada hai to eligibility ka message print karein."
      ],
      "metadata": {
        "id": "kbkviheL2whH"
      }
    },
    {
      "cell_type": "code",
      "source": [
        "name = \"Abdullah\"\n",
        "age = \"17\"\n",
        "age = int(age)\n",
        "if age > 18:\n",
        " print(name,\"app eligible han\")\n",
        "else:\n",
        "  print(name,age,\"app eligible nahi han\")\n"
      ],
      "metadata": {
        "colab": {
          "base_uri": "https://localhost:8080/"
        },
        "id": "dmRAaN1X2Ry0",
        "outputId": "0d889d1e-1bc8-4ece-a26b-11c4f6e65533"
      },
      "execution_count": null,
      "outputs": [
        {
          "output_type": "stream",
          "name": "stdout",
          "text": [
            "Abdullah 17 app eligible nai han\n"
          ]
        }
      ]
    },
    {
      "cell_type": "markdown",
      "source": [
        "9️⃣ Aik mixed-case text ka variable banayein. Check karein ke kya text uppercase mein hai aur result print karein."
      ],
      "metadata": {
        "id": "SroDJ4vr2ZqU"
      }
    },
    {
      "cell_type": "code",
      "source": [
        "text = \"HeLLo WOrLD\"\n",
        "is_upper=text.isupper()\n",
        "print(\"Text =\",text)\n",
        "print(\"ya kaya uppercase hai =\",is_upper)"
      ],
      "metadata": {
        "id": "ie6GGPly2jn3",
        "colab": {
          "base_uri": "https://localhost:8080/"
        },
        "outputId": "4cb73a07-d6ff-4cc7-b94b-c70fe89b639a"
      },
      "execution_count": null,
      "outputs": [
        {
          "output_type": "stream",
          "name": "stdout",
          "text": [
            "Text = HeLLo WOrLD\n",
            "ya kaya uppercase hai = False\n"
          ]
        }
      ]
    },
    {
      "cell_type": "markdown",
      "source": [
        "🔟 Aik string mein numbers likhein, usay float aur int mein convert karein aur har conversion ke sath us ka type print karein."
      ],
      "metadata": {
        "id": "pyHYiYJf4MaZ"
      }
    },
    {
      "cell_type": "code",
      "source": [
        "string = \"17.50\"\n",
        "my_float = float(string)\n",
        "my_integer = int(my_float)\n",
        "print(\"Real String =\",string,\":\",type(string))\n",
        "print(\"Float bananay ka baad =\",my_float,\":\",type(my_float))\n",
        "print(\"integer bananay ka baad =\",my_integer,\":\",type(my_integer))"
      ],
      "metadata": {
        "colab": {
          "base_uri": "https://localhost:8080/"
        },
        "id": "m46j-KTD4Fu2",
        "outputId": "8b69dbb8-6956-4190-fa0a-1e51209f32b9"
      },
      "execution_count": null,
      "outputs": [
        {
          "output_type": "stream",
          "name": "stdout",
          "text": [
            "Real String = 17.50 : <class 'str'>\n",
            "Float bananay ka baad = 17.5 : <class 'float'>\n",
            "integer bananay ka baad = 17 : <class 'int'>\n"
          ]
        }
      ]
    }
  ]
}