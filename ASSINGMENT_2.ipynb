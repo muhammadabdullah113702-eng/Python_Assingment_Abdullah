{
  "nbformat": 4,
  "nbformat_minor": 0,
  "metadata": {
    "colab": {
      "provenance": []
    },
    "kernelspec": {
      "name": "python3",
      "display_name": "Python 3"
    },
    "language_info": {
      "name": "python"
    }
  },
  "cells": [
    {
      "cell_type": "markdown",
      "source": [
        "##1️⃣ String, integer, float aur boolean qism ke variables banao. Unki value aur type print karo."
      ],
      "metadata": {
        "id": "0VPbN_ey7KLc"
      }
    },
    {
      "cell_type": "code",
      "execution_count": null,
      "metadata": {
        "colab": {
          "base_uri": "https://localhost:8080/"
        },
        "id": "ajTFQUpR5Wf8",
        "outputId": "4dbc9791-24c5-40f5-839b-d2ba5819a5dc"
      },
      "outputs": [
        {
          "output_type": "stream",
          "name": "stdout",
          "text": [
            "<class 'str'> Abdullah <class 'int'> 17 <class 'float'> 5.3 <class 'bool'> True\n"
          ]
        }
      ],
      "source": [
        "name = \"Abdullah\"\n",
        "age = 17\n",
        "height = 5.3\n",
        "student = True\n",
        "print(type(name),name ,type(age),age,type(height),height ,type(student),student)"
      ]
    },
    {
      "cell_type": "markdown",
      "source": [
        "# 2️⃣   5 phalon ki list banao aur print karo."
      ],
      "metadata": {
        "id": "TgKSi4gc-ZIf"
      }
    },
    {
      "cell_type": "code",
      "source": [
        "fruits =[\"apple,banana, orange, anar\"]\n",
        "print(type(fruits),fruits)"
      ],
      "metadata": {
        "colab": {
          "base_uri": "https://localhost:8080/"
        },
        "id": "hpynDesT-XyF",
        "outputId": "c29dc731-eed2-4e74-be22-c0ad34275ac4"
      },
      "execution_count": null,
      "outputs": [
        {
          "output_type": "stream",
          "name": "stdout",
          "text": [
            "<class 'list'> ['apple,banana, orange, anar']\n"
          ]
        }
      ]
    },
    {
      "cell_type": "markdown",
      "source": [
        "# 3️⃣ 3 pasandeeda numbers ki tuple banao aur print karo."
      ],
      "metadata": {
        "id": "hrFBa99n_v8T"
      }
    },
    {
      "cell_type": "code",
      "source": [
        "favorite_number = (11 ,44 ,56)\n",
        "print(favorite_number)"
      ],
      "metadata": {
        "colab": {
          "base_uri": "https://localhost:8080/"
        },
        "id": "_bU2nYYl_vD1",
        "outputId": "40b6d0b0-158f-4fc4-9746-5c04dc458eec"
      },
      "execution_count": null,
      "outputs": [
        {
          "output_type": "stream",
          "name": "stdout",
          "text": [
            "(11, 44, 56)\n"
          ]
        }
      ]
    },
    {
      "cell_type": "markdown",
      "source": [
        "# 4️⃣ Ek dictionary banao jisme keys hon: name, age, city – aur tamam key-value pairs print karo."
      ],
      "metadata": {
        "id": "n13UZkjgAozi"
      }
    },
    {
      "cell_type": "code",
      "source": [
        "information = {\"name\":\"abdullah\",\"age\": 17,\"city\":\"gujranwala\"}\n",
        "print(type(information),information)"
      ],
      "metadata": {
        "id": "Erc5zHuRAnv2",
        "colab": {
          "base_uri": "https://localhost:8080/"
        },
        "outputId": "9756b3ca-6dc1-4c66-9655-6b15ed322791"
      },
      "execution_count": null,
      "outputs": [
        {
          "output_type": "stream",
          "name": "stdout",
          "text": [
            "<class 'dict'> {'name': 'abdullah', 'age': 17, 'city': 'gujranwala'}\n"
          ]
        }
      ]
    },
    {
      "cell_type": "markdown",
      "source": [
        "# 5️⃣ Unique hobbies ka set banao."
      ],
      "metadata": {
        "id": "-5HcY6zbr58A"
      }
    },
    {
      "cell_type": "code",
      "source": [
        "hobbies={\"gaming\",\"tiktoking\",\"typing\",}\n",
        "print(type(hobbies),hobbies)"
      ],
      "metadata": {
        "colab": {
          "base_uri": "https://localhost:8080/"
        },
        "id": "M3O1wNhVr4uh",
        "outputId": "f418217a-6e15-4252-d71d-b455e8786ae7"
      },
      "execution_count": null,
      "outputs": [
        {
          "output_type": "stream",
          "name": "stdout",
          "text": [
            "<class 'set'> {'tiktoking', 'gaming', 'typing'}\n"
          ]
        }
      ]
    },
    {
      "cell_type": "markdown",
      "source": [
        "# 6️⃣ 5 students ke naamon ki list banao aur print karo."
      ],
      "metadata": {
        "id": "CHlZZacytuIO"
      }
    },
    {
      "cell_type": "code",
      "source": [
        "name=[\"abdullah\",\"haider\",\"noman\",\"safiullah\",\"zain ali\",]\n",
        "print(type(name),name)"
      ],
      "metadata": {
        "colab": {
          "base_uri": "https://localhost:8080/"
        },
        "id": "bo8KtK89ttBR",
        "outputId": "18d3d88c-fbbe-43bf-df77-3460a74e338a"
      },
      "execution_count": null,
      "outputs": [
        {
          "output_type": "stream",
          "name": "stdout",
          "text": [
            "<class 'list'> ['abdullah', 'haider', 'noman', 'safiullah', 'zain ali']\n"
          ]
        }
      ]
    },
    {
      "cell_type": "markdown",
      "source": [
        "# 7️⃣ 3 programming languages aur unke banane walon (creators) ki dictionary banao au"
      ],
      "metadata": {
        "id": "54FzcEy4vEtO"
      }
    },
    {
      "cell_type": "code",
      "source": [
        "languages = {\"Python\": \"Guido\", \"Java\": \"Gosling\", \"C++\": \"Bjarne\"}\n",
        "print(languages)"
      ],
      "metadata": {
        "colab": {
          "base_uri": "https://localhost:8080/"
        },
        "id": "p5fPmOHavDxt",
        "outputId": "d37aa08e-bd2a-41d5-f149-7b805b85c1ec"
      },
      "execution_count": null,
      "outputs": [
        {
          "output_type": "stream",
          "name": "stdout",
          "text": [
            "{'Python': 'Guido', 'Java': 'Gosling', 'C++': 'Bjarne'}\n"
          ]
        }
      ]
    },
    {
      "cell_type": "markdown",
      "source": [
        "# 8️⃣ 3 float numbers store karo aur unka average nikalo."
      ],
      "metadata": {
        "id": "mVNnVuBNwPqy"
      }
    },
    {
      "cell_type": "code",
      "source": [
        "numbers = [5.5, 7.2, 8.3, 6.0, 9.1]\n",
        "average = sum(numbers) / len(numbers)\n",
        "print(\"Average:\", average)"
      ],
      "metadata": {
        "colab": {
          "base_uri": "https://localhost:8080/"
        },
        "id": "FbgaddjlwOp5",
        "outputId": "b0b20d0e-3a52-4a97-c9f4-e81ab30b5704"
      },
      "execution_count": null,
      "outputs": [
        {
          "output_type": "stream",
          "name": "stdout",
          "text": [
            "Average: 7.220000000000001\n"
          ]
        }
      ]
    },
    {
      "cell_type": "markdown",
      "source": [
        "# 9️⃣4 shehron ki tuple banao."
      ],
      "metadata": {
        "id": "0P8W0S2tznjM"
      }
    },
    {
      "cell_type": "code",
      "source": [
        "Cites=(\"pindi\",\"gujranwala\",\"lahore\",\"pasoor\")\n",
        "print(type(Cites),Cites)"
      ],
      "metadata": {
        "colab": {
          "base_uri": "https://localhost:8080/"
        },
        "id": "keoDpC5Yzmtm",
        "outputId": "f1df82cf-3e7d-4365-e49b-aa0ebfd28828"
      },
      "execution_count": null,
      "outputs": [
        {
          "output_type": "stream",
          "name": "stdout",
          "text": [
            "<class 'tuple'> ('pindi', 'gujranwala', 'lahore', 'pasoor')\n"
          ]
        }
      ]
    },
    {
      "cell_type": "markdown",
      "source": [
        "# 🔟 Kisi string mein jo vowels hain unka set banao aur print karo."
      ],
      "metadata": {
        "id": "D85-Uuc01T0F"
      }
    },
    {
      "cell_type": "code",
      "source": [
        "text = \"abdullah\"\n",
        "vowels = {ch for ch in text if ch in\"a,e,i,o,u\"}\n",
        "print(vowels)"
      ],
      "metadata": {
        "colab": {
          "base_uri": "https://localhost:8080/"
        },
        "id": "Nv84Ot711R5m",
        "outputId": "d06a71b7-ea77-4471-bf30-b200dc3a22ae"
      },
      "execution_count": null,
      "outputs": [
        {
          "output_type": "stream",
          "name": "stdout",
          "text": [
            "{'u', 'a'}\n"
          ]
        }
      ]
    }
  ]
}