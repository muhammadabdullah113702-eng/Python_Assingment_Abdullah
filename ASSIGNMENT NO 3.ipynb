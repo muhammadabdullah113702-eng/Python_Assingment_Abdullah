{
  "nbformat": 4,
  "nbformat_minor": 0,
  "metadata": {
    "colab": {
      "provenance": []
    },
    "kernelspec": {
      "name": "python3",
      "display_name": "Python 3"
    },
    "language_info": {
      "name": "python"
    }
  },
  "cells": [
    {
      "cell_type": "markdown",
      "source": [
        "1️⃣ Variables a = 15 aur b = 4 banayein. Tamam arithmetic operations perform karein aur print karein."
      ],
      "metadata": {
        "id": "ZCu7tRZrGevK"
      }
    },
    {
      "cell_type": "code",
      "execution_count": null,
      "metadata": {
        "id": "q4gDUSz3yqZa",
        "colab": {
          "base_uri": "https://localhost:8080/"
        },
        "outputId": "40f4c701-abb9-4aaa-e69f-eabe09550dca"
      },
      "outputs": [
        {
          "output_type": "stream",
          "name": "stdout",
          "text": [
            "a+b = 19\n",
            "a-b = 11\n",
            "a*b = 60\n",
            "a/b = 3.75\n",
            "a//b = 3\n",
            "a**b = 50625\n"
          ]
        }
      ],
      "source": [
        "a = 15\n",
        "b = 4\n",
        "print(\"a+b =\",a+b)\n",
        "print(\"a-b =\",a-b)\n",
        "print(\"a*b =\",a*b)\n",
        "print(\"a/b =\",a/b)\n",
        "print(\"a//b =\",a//b)\n",
        "print(\"a**b =\",a**b)"
      ]
    },
    {
      "cell_type": "markdown",
      "source": [
        "2️⃣ Comparison operators ka istemal karte hue a aur b ka muqabla karein aur natayij print karein."
      ],
      "metadata": {
        "id": "YmLMUN0mHp1R"
      }
    },
    {
      "cell_type": "code",
      "source": [
        "a = 5\n",
        "b = 8\n",
        "print(\"a==b =\",a==b)\n",
        "print(\"a!=b =\",a!=b)\n",
        "print(\"a<b =\",a<b)\n",
        "print(\"a>b =\",a>b)\n",
        "print(\"a<=b =\",a<=b)\n",
        "print(\"a>=b =\",a>=b)"
      ],
      "metadata": {
        "colab": {
          "base_uri": "https://localhost:8080/"
        },
        "id": "6Z_kPigrGjUL",
        "outputId": "096ef6d2-7ab1-4360-bd94-c2eb04799686"
      },
      "execution_count": null,
      "outputs": [
        {
          "output_type": "stream",
          "name": "stdout",
          "text": [
            "a==b = False\n",
            "a!=b = True\n",
            "a<b = True\n",
            "a>b = False\n",
            "a<=b = True\n",
            "a>=b = False\n"
          ]
        }
      ]
    },
    {
      "cell_type": "markdown",
      "source": [
        "3️⃣ Boolean variables x = True aur y = False banayein. Logical operations perform karein aur results print karein."
      ],
      "metadata": {
        "id": "AubXr6VFM6Q2"
      }
    },
    {
      "cell_type": "code",
      "source": [
        "x = True\n",
        "y = False\n",
        "print(\"x and y =\",x and y)\n",
        "print(\"x or y =\",x or y)\n",
        "print (\"NOT x =\",not x)\n",
        "print(\"NOT y =\",not y)\n",
        "\n"
      ],
      "metadata": {
        "colab": {
          "base_uri": "https://localhost:8080/"
        },
        "id": "xh8frS9dM5ui",
        "outputId": "875acedd-2ca6-4e53-8aea-126ec87ad752"
      },
      "execution_count": null,
      "outputs": [
        {
          "output_type": "stream",
          "name": "stdout",
          "text": [
            "x and y = False\n",
            "x or y = True\n",
            "NOT x = False\n",
            "NOT y = True\n"
          ]
        }
      ]
    },
    {
      "cell_type": "markdown",
      "source": [
        " 4️⃣Assignment operators (+=, -=, *=, waghera) ka istemal karte hue aik variable par operations karein aur updated values print karein."
      ],
      "metadata": {
        "id": "qa51-5H4Qsyb"
      }
    },
    {
      "cell_type": "code",
      "source": [
        "x = 8\n",
        "print(\"x =\", x)\n",
        "\n",
        "x += 3\n",
        "print(\"x += 3 →\", x)\n",
        "\n",
        "x -= 2\n",
        "print(\"x -= 2 →\", x)\n",
        "\n",
        "x *= 6\n",
        "print(\"x *= 6 →\", x)\n",
        "\n",
        "x /= 2\n",
        "print(\"x /= 2 →\", x)\n",
        "\n",
        "x //= 2\n",
        "print(\"x //= 2 →\", x)"
      ],
      "metadata": {
        "colab": {
          "base_uri": "https://localhost:8080/"
        },
        "id": "fB7vqvxTQsWC",
        "outputId": "74719645-d5e6-4fc7-8269-be79a90925a6"
      },
      "execution_count": null,
      "outputs": [
        {
          "output_type": "stream",
          "name": "stdout",
          "text": [
            "x = 8\n",
            "x += 3 → 11\n",
            "x -= 2 → 9\n",
            "x *= 6 → 54\n",
            "x /= 2 → 27.0\n",
            "x //= 2 → 13.0\n"
          ]
        }
      ]
    },
    {
      "cell_type": "markdown",
      "source": [
        "5️⃣ is aur is not operators ka istemal karte hue do barabar values ke sath check karein."
      ],
      "metadata": {
        "id": "1RFWIRmaVwzZ"
      }
    },
    {
      "cell_type": "code",
      "source": [
        "a = 2\n",
        "b = 2\n",
        "print(\"a is b =\",a is b)\n",
        "print(\"a is not b =\",a is not b)"
      ],
      "metadata": {
        "id": "Cx_D0ZnwVwZl",
        "colab": {
          "base_uri": "https://localhost:8080/"
        },
        "outputId": "5ecd2e12-758c-4047-ae3f-e973f8a44625"
      },
      "execution_count": null,
      "outputs": [
        {
          "output_type": "stream",
          "name": "stdout",
          "text": [
            "a is b = True\n",
            "a is not b = False\n"
          ]
        }
      ]
    },
    {
      "cell_type": "markdown",
      "source": [
        "6️⃣ Kisi string mein in aur not in operators ka istemal kar ke lafzon ki mojoodgi check karein.\n"
      ],
      "metadata": {
        "id": "DNKwcce7g9yn"
      }
    },
    {
      "cell_type": "code",
      "source": [
        "sentence= \"Phython language is very intresting\"\n",
        "print(\"Phython \" in sentence)\n",
        "print(\"very \" in sentence)\n",
        "print(\"Abdullah \" not in sentence)"
      ],
      "metadata": {
        "colab": {
          "base_uri": "https://localhost:8080/"
        },
        "id": "KmBgHH2Ug9Wa",
        "outputId": "e5d1b838-37e5-4094-8da4-2b6e7f0de6e1"
      },
      "execution_count": null,
      "outputs": [
        {
          "output_type": "stream",
          "name": "stdout",
          "text": [
            "True\n",
            "True\n",
            "True\n"
          ]
        }
      ]
    },
    {
      "cell_type": "markdown",
      "source": [
        "7️⃣ keyword module ko import karein aur tamam Python keywords ko print karein."
      ],
      "metadata": {
        "id": "daLdROVpjtxi"
      }
    },
    {
      "cell_type": "code",
      "source": [
        "import keyword\n",
        "print(\"keyword list is:\")\n",
        "print(keyword.kwlist)"
      ],
      "metadata": {
        "colab": {
          "base_uri": "https://localhost:8080/"
        },
        "id": "_-hDTbECjtfa",
        "outputId": "ad1d1ef4-be68-48ad-dbd3-ee5e46f815a0"
      },
      "execution_count": null,
      "outputs": [
        {
          "output_type": "stream",
          "name": "stdout",
          "text": [
            "keyword list is:\n",
            "['False', 'None', 'True', 'and', 'as', 'assert', 'async', 'await', 'break', 'class', 'continue', 'def', 'del', 'elif', 'else', 'except', 'finally', 'for', 'from', 'global', 'if', 'import', 'in', 'is', 'lambda', 'nonlocal', 'not', 'or', 'pass', 'raise', 'return', 'try', 'while', 'with', 'yield']\n"
          ]
        }
      ]
    },
    {
      "cell_type": "markdown",
      "source": [
        "8️⃣ Variables name, age, height declare karein aur unki values aur types print karein."
      ],
      "metadata": {
        "id": "cBO-RfAlnEop"
      }
    },
    {
      "cell_type": "code",
      "source": [
        "name = \"Abdullah\"\n",
        "age = 17\n",
        "height = 4.8\n",
        "print(\"name\",name,type(name))\n",
        "print(\"age\",age,type(age))\n",
        "print(\"height\",height,type(height))"
      ],
      "metadata": {
        "colab": {
          "base_uri": "https://localhost:8080/"
        },
        "id": "WSEPanq8nELk",
        "outputId": "795e1988-85db-4758-a255-7f4e7fa51bc6"
      },
      "execution_count": null,
      "outputs": [
        {
          "output_type": "stream",
          "name": "stdout",
          "text": [
            "name Abdullah <class 'str'>\n",
            "age 17 <class 'int'>\n",
            "height 4.8 <class 'float'>\n"
          ]
        }
      ]
    },
    {
      "cell_type": "markdown",
      "source": [
        "9️⃣ 5 valid aur 3 invalid variable names likhein (har aik ke sath comment bhi dein)."
      ],
      "metadata": {
        "id": "7dZTm9b8qdWx"
      }
    },
    {
      "cell_type": "code",
      "source": [
        "name = \"Abdullah\"   #ya letter sa start ho raha ha\n",
        "my_age = 17         # is ma underscore ka istamal hova ha\n",
        "student1 = \"abdullah\"  # is ma number ka istamal kiya gaya ha lakin baad ma\n",
        "_collage = \"Elite collage\"    #underscore sa start ho raha ha\n",
        "a = 5000                 # ak lafaz ka variable banaya ha\n",
        "\n",
        "\n",
        "\n",
        "2name = \"Abdullah\"      #number sa start ho raha ha\n",
        "my age = 17          # is ma space di ha\n",
        "my-name = \"Abdullah\"   # hyphen dal diya ha\n"
      ],
      "metadata": {
        "id": "Qso7BhVYqc8O"
      },
      "execution_count": null,
      "outputs": []
    },
    {
      "cell_type": "markdown",
      "source": [
        "\n",
        "\n",
        "🔟 Aik hi line mein multiple values assign karein aur type() aur id() ka istemal karke unhein inspect karein.\n",
        "\n"
      ],
      "metadata": {
        "id": "VTctqGASs-m2"
      }
    },
    {
      "cell_type": "code",
      "source": [
        "b , i , s = 20 , 1.5 ,\"Abdullah\"\n",
        "print(\"b =\",b, \",type =\",type(b),\",id =\",id(b))\n",
        "print(\"i =\",i, \",type =\",type(i),\",id =\",id(i))\n",
        "print(\"s =\",s, \",type =\",type(s),\",id =\",id(s))\n"
      ],
      "metadata": {
        "id": "fuU4Ejp7s6P1",
        "colab": {
          "base_uri": "https://localhost:8080/"
        },
        "outputId": "bf342e95-b6be-4197-f66e-a4e258e3dd8d"
      },
      "execution_count": null,
      "outputs": [
        {
          "output_type": "stream",
          "name": "stdout",
          "text": [
            "b = 20 ,type = <class 'int'> ,id = 10758344\n",
            "i = 1.5 ,type = <class 'float'> ,id = 137150540852976\n",
            "s = Abdullah ,type = <class 'str'> ,id = 137150539025648\n"
          ]
        }
      ]
    }
  ]
}