{
  "nbformat": 4,
  "nbformat_minor": 0,
  "metadata": {
    "colab": {
      "provenance": []
    },
    "kernelspec": {
      "name": "python3",
      "display_name": "Python 3"
    },
    "language_info": {
      "name": "python"
    }
  },
  "cells": [
    {
      "cell_type": "markdown",
      "source": [
        "1️⃣ Ek program banao jo check kare ke number positive hai, negative hai ya zero."
      ],
      "metadata": {
        "id": "09OtPgY3WEG0"
      }
    },
    {
      "cell_type": "code",
      "execution_count": null,
      "metadata": {
        "id": "VwN1llQlUv5n",
        "colab": {
          "base_uri": "https://localhost:8080/"
        },
        "outputId": "e35485fb-b276-48e8-8d48-edf1f3c4a1a1"
      },
      "outputs": [
        {
          "output_type": "stream",
          "name": "stdout",
          "text": [
            "ya number positive ha\n"
          ]
        }
      ],
      "source": [
        "num = 100\n",
        "if num > 0:\n",
        "  print(\"ya number positive ha\")\n",
        "elif num < 0:\n",
        "  print(\"ya number negative ha\")\n",
        "else:\n",
        "  print(\"ya number zero ha\")"
      ]
    },
    {
      "cell_type": "markdown",
      "source": [
        "2️⃣ User se ek number lo aur check karo ke even hai ya odd.\n",
        "\n"
      ],
      "metadata": {
        "id": "y84pitXEYjTn"
      }
    },
    {
      "cell_type": "code",
      "source": [
        "num = int(input(\"Koi number daaliye: \"))\n",
        "if num % 2==0:\n",
        "    print(\"ya number even ha\")\n",
        "else:\n",
        "  print(\"ya number odd ha\")"
      ],
      "metadata": {
        "colab": {
          "base_uri": "https://localhost:8080/"
        },
        "id": "1UP9gZ3nYia5",
        "outputId": "63f936c8-d3fe-4eaf-c58c-5222640ec060"
      },
      "execution_count": null,
      "outputs": [
        {
          "output_type": "stream",
          "name": "stdout",
          "text": [
            "Koi number daaliye: 20\n",
            "ya number even ha\n"
          ]
        }
      ]
    },
    {
      "cell_type": "markdown",
      "source": [
        "3️⃣ User se age pucho aur print karo ke voting ke liye eligible hai ya nahi."
      ],
      "metadata": {
        "id": "TDCseNYUYh-z"
      }
    },
    {
      "cell_type": "code",
      "source": [
        "age = int(input(\"ap ki age kaya ha : \"))\n",
        "if age >= 18:\n",
        "  print(\"ap voiting ka liya eligible han\")\n",
        "else:\n",
        "  print(\"ap voiting kaliya eligible nai han\")"
      ],
      "metadata": {
        "colab": {
          "base_uri": "https://localhost:8080/"
        },
        "id": "Xh2yAY1Ta-_X",
        "outputId": "6efcbfef-3966-4b7b-d1a9-37fbeb465e39"
      },
      "execution_count": null,
      "outputs": [
        {
          "output_type": "stream",
          "name": "stdout",
          "text": [
            "ap ki age kaya ha : 19\n",
            "ap voiting ka liya eligible han\n"
          ]
        }
      ]
    },
    {
      "cell_type": "markdown",
      "source": [
        "4️⃣ Check karo ke number 3 se divisible hai, 5 se divisible hai ya dono se."
      ],
      "metadata": {
        "id": "rFNN6KE1cXD4"
      }
    },
    {
      "cell_type": "code",
      "source": [
        "num = int(input(\"koi number likhiya :\"))\n",
        "if num %3==0 and num %5==0:\n",
        "  print(\"ya number 3 or 5 dono sa divisible ha\")\n",
        "elif num %3==0:\n",
        "  print(\"ya number 3 sa divisible ha\")\n",
        "elif num %5==0:\n",
        "  print(\"ya number 5 sa divisible ha\")\n",
        "else:\n",
        "  print(\"ya number 3 or 5 dono sa divisible nai ha\")\n"
      ],
      "metadata": {
        "id": "QTZbnkvJeT4_",
        "colab": {
          "base_uri": "https://localhost:8080/"
        },
        "outputId": "37aaedc0-631d-48d1-fe21-3206fd2816af"
      },
      "execution_count": null,
      "outputs": [
        {
          "output_type": "stream",
          "name": "stdout",
          "text": [
            "koi number likhiya :2\n",
            "ya number dono sa divisible nai ha\n"
          ]
        }
      ]
    },
    {
      "cell_type": "markdown",
      "source": [
        "5️⃣ Marks lo aur grade print karo using if-elif-else."
      ],
      "metadata": {
        "id": "icddTD3S6tLN"
      }
    },
    {
      "cell_type": "code",
      "source": [
        "num = int(input(\"apnay marks likhiya (0-100) tak\" ))\n",
        "if num >= 90 and num <= 100:\n",
        "  print(\"Grade:A\")\n",
        "elif num >= 80:\n",
        "  print(\"Grade:B\")\n",
        "elif num >= 70:\n",
        "  print(\"Grade:C\")\n",
        "elif num >= 50:\n",
        "  print(\"Grade:D\")\n",
        "else:\n",
        "  print(\"Fale\")"
      ],
      "metadata": {
        "colab": {
          "base_uri": "https://localhost:8080/"
        },
        "id": "Fxiztyxp6y1f",
        "outputId": "b6d7bb81-f435-4f6f-ae99-e0327b240913"
      },
      "execution_count": null,
      "outputs": [
        {
          "output_type": "stream",
          "name": "stdout",
          "text": [
            "apnay marks likhiya (0-100) tak100\n",
            "Grade:A\n"
          ]
        }
      ]
    },
    {
      "cell_type": "markdown",
      "source": [
        "6️⃣ Loop ka use karke 1 se 10 tak numbers print karo."
      ],
      "metadata": {
        "id": "JjlgJuAB8px8"
      }
    },
    {
      "cell_type": "code",
      "source": [
        "for num in range(1,11):\n",
        "  print(num)"
      ],
      "metadata": {
        "colab": {
          "base_uri": "https://localhost:8080/"
        },
        "id": "kE0IqZJx8vDR",
        "outputId": "b716a4ac-46b5-4d64-9dfa-0bb1b7fe3196"
      },
      "execution_count": null,
      "outputs": [
        {
          "output_type": "stream",
          "name": "stdout",
          "text": [
            "1\n",
            "2\n",
            "3\n",
            "4\n",
            "5\n",
            "6\n",
            "7\n",
            "8\n",
            "9\n",
            "10\n"
          ]
        }
      ]
    },
    {
      "cell_type": "markdown",
      "source": [
        "7️⃣ 6 ka multiplication table print karo."
      ],
      "metadata": {
        "id": "SBsbtBR9-GcG"
      }
    },
    {
      "cell_type": "code",
      "source": [
        "for table in range(1,11):\n",
        "  print(f\"{6} * {table} = {6*table}\")"
      ],
      "metadata": {
        "colab": {
          "base_uri": "https://localhost:8080/"
        },
        "id": "OjPRPEMX-K1c",
        "outputId": "866bd7ec-db3d-4746-ddbe-71b42140d7b5"
      },
      "execution_count": null,
      "outputs": [
        {
          "output_type": "stream",
          "name": "stdout",
          "text": [
            "6 * 1 = 6\n",
            "6 * 2 = 12\n",
            "6 * 3 = 18\n",
            "6 * 4 = 24\n",
            "6 * 5 = 30\n",
            "6 * 6 = 36\n",
            "6 * 7 = 42\n",
            "6 * 8 = 48\n",
            "6 * 9 = 54\n",
            "6 * 10 = 60\n"
          ]
        }
      ]
    },
    {
      "cell_type": "markdown",
      "source": [
        "8️⃣ Loop ka use karke 1 se 20 tak ke saare even numbers print karo."
      ],
      "metadata": {
        "id": "4wvL6BKjBHbh"
      }
    },
    {
      "cell_type": "code",
      "source": [
        "for even in range(1,15):\n",
        "  if even %2==0:\n",
        "    print(even)"
      ],
      "metadata": {
        "colab": {
          "base_uri": "https://localhost:8080/"
        },
        "id": "dLVYmC1DBOAZ",
        "outputId": "4abaf4ae-7845-4bdd-d795-1e977645e007"
      },
      "execution_count": null,
      "outputs": [
        {
          "output_type": "stream",
          "name": "stdout",
          "text": [
            "2\n",
            "4\n",
            "6\n",
            "8\n",
            "10\n",
            "12\n",
            "14\n"
          ]
        }
      ]
    },
    {
      "cell_type": "markdown",
      "source": [
        "9️⃣ User se ek word lo aur uska har letter new line par print karo."
      ],
      "metadata": {
        "id": "Gk7yU5dHB-bi"
      }
    },
    {
      "cell_type": "code",
      "source": [
        "word=str(input(\"koi bi word likho : \"))\n",
        "for letter in word:\n",
        "  print(letter)"
      ],
      "metadata": {
        "colab": {
          "base_uri": "https://localhost:8080/"
        },
        "id": "tr-q4PF3CC5k",
        "outputId": "477828bd-03ea-43e9-da9a-b02fbcca92a7"
      },
      "execution_count": null,
      "outputs": [
        {
          "output_type": "stream",
          "name": "stdout",
          "text": [
            "koi bi word likho : Honda 125\n",
            "H\n",
            "o\n",
            "n\n",
            "d\n",
            "a\n",
            " \n",
            "1\n",
            "2\n",
            "5\n"
          ]
        }
      ]
    },
    {
      "cell_type": "markdown",
      "source": [
        "🔟 Word “education” mein kitne vowels hain wo count karo."
      ],
      "metadata": {
        "id": "7bRgsQHqDGuF"
      }
    },
    {
      "cell_type": "code",
      "source": [
        "word=\"education\"\n",
        "vowels=\"aeiou\"\n",
        "count=0\n",
        "for letter in word:\n",
        "  if letter in vowels:\n",
        "    count += 1\n",
        "print(f\"Word {word} ma {count} vowels han\")"
      ],
      "metadata": {
        "colab": {
          "base_uri": "https://localhost:8080/"
        },
        "id": "baDASmg8DLph",
        "outputId": "9e51aa86-6d59-4b60-b21b-8eea50071fd7"
      },
      "execution_count": null,
      "outputs": [
        {
          "output_type": "stream",
          "name": "stdout",
          "text": [
            "Word education ma 5 vowels han\n"
          ]
        }
      ]
    }
  ]
}