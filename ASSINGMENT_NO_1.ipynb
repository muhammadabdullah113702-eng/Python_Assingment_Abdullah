{
  "cells": [
    {
      "cell_type": "code",
      "execution_count": null,
      "metadata": {
        "colab": {
          "base_uri": "https://localhost:8080/"
        },
        "id": "H7T9prJSiOd1",
        "outputId": "e5ccce5e-606b-4660-d4fa-bb0a5458a11e"
      },
      "outputs": [
        {
          "output_type": "stream",
          "name": "stdout",
          "text": [
            "MY FAVORITE COLOR IS BLACK\n"
          ]
        }
      ],
      "source": [
        " print(\"MY FAVORITE COLOR IS BLACK\")"
      ]
    },
    {
      "cell_type": "code",
      "source": [],
      "metadata": {
        "id": "nUUo0BROhUQ9"
      },
      "execution_count": null,
      "outputs": []
    },
    {
      "cell_type": "code",
      "execution_count": null,
      "metadata": {
        "colab": {
          "base_uri": "https://localhost:8080/"
        },
        "id": "EXWsLuvUi4Yr",
        "outputId": "7e56e219-f306-4a52-80d1-2950470060c9"
      },
      "outputs": [
        {
          "output_type": "stream",
          "name": "stdout",
          "text": [
            "میرا سالِ پیدائش ہے: 2008\n"
          ]
        }
      ],
      "source": [
        "birth_year = 2008\n",
        "print(\"میرا سالِ پیدائش ہے:\", birth_year)"
      ]
    },
    {
      "cell_type": "code",
      "execution_count": null,
      "metadata": {
        "colab": {
          "base_uri": "https://localhost:8080/"
        },
        "id": "T41-MEWHk3PH",
        "outputId": "931b1faf-7670-4d4e-e795-fe86ebe75533"
      },
      "outputs": [
        {
          "output_type": "stream",
          "name": "stdout",
          "text": [
            "Biryani\n"
          ]
        }
      ],
      "source": [
        "favorite_food = \"Biryani\"\n",
        "print(favorite_food)\n"
      ]
    },
    {
      "cell_type": "code",
      "source": [
        "num1 = 15\n",
        "num2 = 20\n",
        "RESULT = num1+num2\n",
        "print(RESULT)"
      ],
      "metadata": {
        "colab": {
          "base_uri": "https://localhost:8080/"
        },
        "id": "wpvHIuTZRn36",
        "outputId": "62d9331c-111a-41d1-9a3e-094e765600fc"
      },
      "execution_count": null,
      "outputs": [
        {
          "output_type": "stream",
          "name": "stdout",
          "text": [
            "35\n"
          ]
        }
      ]
    },
    {
      "cell_type": "code",
      "source": [
        "hobby = \"CRICKET\"\n",
        "print(\"My hobby is\", hobby)"
      ],
      "metadata": {
        "colab": {
          "base_uri": "https://localhost:8080/"
        },
        "id": "ruiRDctxRpWE",
        "outputId": "078b4dfa-929a-4fdc-98b2-3bfb550d0cce"
      },
      "execution_count": null,
      "outputs": [
        {
          "output_type": "stream",
          "name": "stdout",
          "text": [
            "My hobby is CRICKET\n"
          ]
        }
      ]
    },
    {
      "cell_type": "code",
      "source": [
        "country = \"Pakistan\"\n",
        "print(\"I am from\", country)"
      ],
      "metadata": {
        "colab": {
          "base_uri": "https://localhost:8080/"
        },
        "id": "e3fOw0NeRxHz",
        "outputId": "e37dd43b-dda5-489b-f6a5-9af3e49bb3ea"
      },
      "execution_count": null,
      "outputs": [
        {
          "output_type": "stream",
          "name": "stdout",
          "text": [
            "I am from Pakistan\n"
          ]
        }
      ]
    },
    {
      "cell_type": "code",
      "source": [
        "name = \"Abdullah\"\n",
        "favorite_color = \"BLACK\"\n",
        "hobby = \"CRICKET\"\n",
        "print(\"My name is\",name,\" my favorite color is\", favorite_color, \"and I love\", hobby + \".\")"
      ],
      "metadata": {
        "colab": {
          "base_uri": "https://localhost:8080/"
        },
        "id": "130YQGEaR2Bt",
        "outputId": "8df1f48d-a440-4a08-d5a5-c8ea78537c93"
      },
      "execution_count": null,
      "outputs": [
        {
          "output_type": "stream",
          "name": "stdout",
          "text": [
            "My name is Abdullah  my favorite color is BLACK and I love CRICKET.\n"
          ]
        }
      ]
    },
    {
      "cell_type": "code",
      "source": [
        "a = 100\n",
        "b = 45\n",
        "print(a - b)"
      ],
      "metadata": {
        "colab": {
          "base_uri": "https://localhost:8080/"
        },
        "id": "G_p0wjnWR2ih",
        "outputId": "a1e59ac7-d11b-4361-ee62-8bbb25ec9d1c"
      },
      "execution_count": null,
      "outputs": [
        {
          "output_type": "stream",
          "name": "stdout",
          "text": [
            "55\n"
          ]
        }
      ]
    },
    {
      "cell_type": "code",
      "source": [
        "book = \"URDU\"\n",
        "print(\"MY FAVOURITE BOOK IS\",book)"
      ],
      "metadata": {
        "colab": {
          "base_uri": "https://localhost:8080/"
        },
        "id": "fdoB_keRSCrp",
        "outputId": "4308c5a7-3a9e-4708-9cf1-6eab704ca46d"
      },
      "execution_count": null,
      "outputs": [
        {
          "output_type": "stream",
          "name": "stdout",
          "text": [
            "MY FAVOURITE BOOK IS URDU\n"
          ]
        }
      ]
    },
    {
      "cell_type": "code",
      "source": [
        "favorite_movie = \"GOLMAAL AGAIN\"\n",
        "print(favorite_movie)"
      ],
      "metadata": {
        "colab": {
          "base_uri": "https://localhost:8080/"
        },
        "id": "xRegNCavSH_e",
        "outputId": "d8e812d4-31a9-4d0c-a19f-db635fdb7d2e"
      },
      "execution_count": null,
      "outputs": [
        {
          "output_type": "stream",
          "name": "stdout",
          "text": [
            "GOLMAAL AGAIN\n"
          ]
        }
      ]
    }
  ],
  "metadata": {
    "colab": {
      "provenance": []
    },
    "kernelspec": {
      "display_name": "Python 3",
      "name": "python3"
    },
    "language_info": {
      "name": "python"
    }
  },
  "nbformat": 4,
  "nbformat_minor": 0
}