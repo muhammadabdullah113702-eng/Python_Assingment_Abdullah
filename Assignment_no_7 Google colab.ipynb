{
  "nbformat": 4,
  "nbformat_minor": 0,
  "metadata": {
    "colab": {
      "provenance": []
    },
    "kernelspec": {
      "name": "python3",
      "display_name": "Python 3"
    },
    "language_info": {
      "name": "python"
    }
  },
  "cells": [
    {
      "cell_type": "markdown",
      "source": [
        "1️⃣ 5 fruits ka ek set banao aur print karo."
      ],
      "metadata": {
        "id": "9Kg0hvHsKWc_"
      }
    },
    {
      "cell_type": "code",
      "execution_count": 3,
      "metadata": {
        "colab": {
          "base_uri": "https://localhost:8080/"
        },
        "id": "1sdaTgSJKUwx",
        "outputId": "0c7115c2-ff0a-4ce7-f947-35b02dd9c93c"
      },
      "outputs": [
        {
          "output_type": "stream",
          "name": "stdout",
          "text": [
            "{'Banana', 'Grapes', 'Apple', 'Amrood', 'Mango'}\n"
          ]
        }
      ],
      "source": [
        "fruits = {\"Apple\",\"Banana\",\"Grapes\",\"Mango\",\"Amrood\"}\n",
        "print(fruits)"
      ]
    },
    {
      "cell_type": "markdown",
      "source": [
        "2️⃣ .add() use karke ek naya fruit add karo aur updated set print karo."
      ],
      "metadata": {
        "id": "5s6vFCocMGIg"
      }
    },
    {
      "cell_type": "code",
      "source": [
        "fruits.add(\"Orange\")\n",
        "print(\"updated fruits =\",fruits)"
      ],
      "metadata": {
        "colab": {
          "base_uri": "https://localhost:8080/"
        },
        "id": "UhbctQwNMGx5",
        "outputId": "a822ed30-bc90-48e1-dfda-7f3af304c1f5"
      },
      "execution_count": 7,
      "outputs": [
        {
          "output_type": "stream",
          "name": "stdout",
          "text": [
            "updated fruits = {'Banana', 'Grapes', 'Orange', 'Apple', 'Amrood', 'Mango'}\n"
          ]
        }
      ]
    },
    {
      "cell_type": "markdown",
      "source": [
        "3️⃣ .remove() se ek fruit delete karo. (Agar wo fruit na ho to error ata hai, ye samjhao.)"
      ],
      "metadata": {
        "id": "xxRZ0Q2KNWHH"
      }
    },
    {
      "cell_type": "code",
      "source": [
        "fruits.remove(\"Apple\")\n",
        "print(\"updated fruits =\",fruits)\n",
        "# agar to koi fruit set ma na ho to ham vo remove karvain to ya error da ga"
      ],
      "metadata": {
        "colab": {
          "base_uri": "https://localhost:8080/"
        },
        "id": "B0UGVDzwNX6K",
        "outputId": "b639431a-8ebb-4f32-822c-f7789853fa1c"
      },
      "execution_count": 8,
      "outputs": [
        {
          "output_type": "stream",
          "name": "stdout",
          "text": [
            "updated fruits = {'Banana', 'Grapes', 'Orange', 'Amrood', 'Mango'}\n"
          ]
        }
      ]
    },
    {
      "cell_type": "markdown",
      "source": [
        "4️⃣ .discard() se ek aur fruit delete karo. (Aur batana ke ye .remove() se kaisa alag hai.)"
      ],
      "metadata": {
        "id": "VAdaIyTfOjBV"
      }
    },
    {
      "cell_type": "code",
      "source": [
        "fruits.discard(\"Mango\")\n",
        "print(\"updated fruits =\",fruits)\n",
        "fruits.discard(\"Apple\")\n",
        "print(\"updated fruits =\",fruits)\n",
        "# dicard() method sa agar to koi fruit set ma na ho to ya remove() ki taran error nai data balka ya isay ignore kar data ha."
      ],
      "metadata": {
        "colab": {
          "base_uri": "https://localhost:8080/"
        },
        "id": "qPVwpIaVOo1A",
        "outputId": "e55835af-4ff2-4535-e40f-c9ea6047a304"
      },
      "execution_count": 9,
      "outputs": [
        {
          "output_type": "stream",
          "name": "stdout",
          "text": [
            "updated fruits = {'Banana', 'Grapes', 'Orange', 'Amrood'}\n",
            "updated fruits = {'Banana', 'Grapes', 'Orange', 'Amrood'}\n"
          ]
        }
      ]
    },
    {
      "cell_type": "markdown",
      "source": [
        "5️⃣ .pop() use karke ek random element remove karo aur print karo."
      ],
      "metadata": {
        "id": "8Fz7bx3-PldG"
      }
    },
    {
      "cell_type": "code",
      "source": [
        "fruits.pop()\n",
        "print(\"updated fruits =\",fruits)"
      ],
      "metadata": {
        "colab": {
          "base_uri": "https://localhost:8080/"
        },
        "id": "-hzcjMv-Q_yE",
        "outputId": "33e348c4-67e5-43dc-f835-528b253aaad6"
      },
      "execution_count": 17,
      "outputs": [
        {
          "output_type": "stream",
          "name": "stdout",
          "text": [
            "updated fruits = {'Amrood', 'Grapes', 'Orange'}\n"
          ]
        }
      ]
    },
    {
      "cell_type": "markdown",
      "source": [
        "6️⃣ .clear() use karke baaki sab elements delete kar do aur check karo ke set khali ho gaya hai."
      ],
      "metadata": {
        "id": "LDFy197sR-vr"
      }
    },
    {
      "cell_type": "code",
      "source": [
        "fruits.clear()\n",
        "print(\"fruits =\",fruits)"
      ],
      "metadata": {
        "colab": {
          "base_uri": "https://localhost:8080/"
        },
        "id": "lp8WZSjdSixt",
        "outputId": "c4d5f966-2ffa-4217-95f2-1cbee0c55bae"
      },
      "execution_count": 19,
      "outputs": [
        {
          "output_type": "stream",
          "name": "stdout",
          "text": [
            "fruits = set()\n"
          ]
        }
      ]
    },
    {
      "cell_type": "markdown",
      "source": [
        "7️⃣ 2 sets of numbers banao aur unka union(), intersection(), difference(), aur symmetric_difference() print karo."
      ],
      "metadata": {
        "id": "AoB6Ja4rS_Dh"
      }
    },
    {
      "cell_type": "code",
      "source": [
        "set1={1,2,3,4,5}\n",
        "set2={5,4,6,7,8}\n",
        "print(set1)\n",
        "print(set2)\n",
        "print(\"union :\",set1.union(set2))\n",
        "print(\"intersection :\",set1.intersection(set2))\n",
        "print(\"difference :\",set1.difference(set2))\n",
        "print(\"symmetric_difference :\",set1.symmetric_difference(set2))"
      ],
      "metadata": {
        "colab": {
          "base_uri": "https://localhost:8080/"
        },
        "id": "N_P-5gbNTDCI",
        "outputId": "9becb436-392f-441f-cc37-4b0ce2b72681"
      },
      "execution_count": 34,
      "outputs": [
        {
          "output_type": "stream",
          "name": "stdout",
          "text": [
            "{1, 2, 3, 4, 5}\n",
            "{4, 5, 6, 7, 8}\n",
            "union : {1, 2, 3, 4, 5, 6, 7, 8}\n",
            "intersection : {4, 5}\n",
            "difference : {1, 2, 3}\n",
            "symmetric_difference : {1, 2, 3, 6, 7, 8}\n"
          ]
        }
      ]
    },
    {
      "cell_type": "markdown",
      "source": [
        "8️⃣ Check karo ke ek set dusre ka subset ya superset hai ya nahi, aur results print karo."
      ],
      "metadata": {
        "id": "-oerjcyNWRyW"
      }
    },
    {
      "cell_type": "code",
      "source": [
        "print(\"set1 is subset of set2 :\",set1.issubset(set2))\n",
        "print(\"set2 is subset of set1 :\",set2.issubset(set1))\n",
        "print(\"set1 is superset of set2 :\",set1.issuperset(set2))\n",
        "print(\"set2 is superset of set1 :\",set2.issuperset(set1))"
      ],
      "metadata": {
        "colab": {
          "base_uri": "https://localhost:8080/"
        },
        "id": "Z9NMb3cBWTQ4",
        "outputId": "cf14f247-9c4d-47a7-c26d-751b05a3685c"
      },
      "execution_count": 39,
      "outputs": [
        {
          "output_type": "stream",
          "name": "stdout",
          "text": [
            "set1 is subset of set2 : False\n",
            "set2 is subset of set1 : False\n",
            "set1 is superset of set2 : False\n",
            "set2 is superset of set1 : False\n"
          ]
        }
      ]
    },
    {
      "cell_type": "markdown",
      "source": [
        "9️⃣ Ek vowels ka frozenset banao aur koi naya element add karne ki koshish karo — immutability ka error dekho."
      ],
      "metadata": {
        "id": "GatMZE_yXzqw"
      }
    },
    {
      "cell_type": "code",
      "source": [
        "vowels =frozenset({\"a\",\"e\",\"i\",\"o\",\"u\"})\n",
        "print(\"vowels ka frozenset :\",vowels)\n",
        "print(vowels.add(b))"
      ],
      "metadata": {
        "colab": {
          "base_uri": "https://localhost:8080/",
          "height": 199
        },
        "id": "lTruPjOqX9xr",
        "outputId": "719fb7bc-6926-4176-ae0d-e7e475afe5a0"
      },
      "execution_count": 40,
      "outputs": [
        {
          "output_type": "stream",
          "name": "stdout",
          "text": [
            "vowels ka frozenset : frozenset({'a', 'i', 'e', 'o', 'u'})\n"
          ]
        },
        {
          "output_type": "error",
          "ename": "AttributeError",
          "evalue": "'frozenset' object has no attribute 'add'",
          "traceback": [
            "\u001b[0;31m---------------------------------------------------------------------------\u001b[0m",
            "\u001b[0;31mAttributeError\u001b[0m                            Traceback (most recent call last)",
            "\u001b[0;32m/tmp/ipython-input-3097095215.py\u001b[0m in \u001b[0;36m<cell line: 0>\u001b[0;34m()\u001b[0m\n\u001b[1;32m      1\u001b[0m \u001b[0mvowels\u001b[0m \u001b[0;34m=\u001b[0m\u001b[0mfrozenset\u001b[0m\u001b[0;34m(\u001b[0m\u001b[0;34m{\u001b[0m\u001b[0;34m\"a\"\u001b[0m\u001b[0;34m,\u001b[0m\u001b[0;34m\"e\"\u001b[0m\u001b[0;34m,\u001b[0m\u001b[0;34m\"i\"\u001b[0m\u001b[0;34m,\u001b[0m\u001b[0;34m\"o\"\u001b[0m\u001b[0;34m,\u001b[0m\u001b[0;34m\"u\"\u001b[0m\u001b[0;34m}\u001b[0m\u001b[0;34m)\u001b[0m\u001b[0;34m\u001b[0m\u001b[0;34m\u001b[0m\u001b[0m\n\u001b[1;32m      2\u001b[0m \u001b[0mprint\u001b[0m\u001b[0;34m(\u001b[0m\u001b[0;34m\"vowels ka frozenset :\"\u001b[0m\u001b[0;34m,\u001b[0m\u001b[0mvowels\u001b[0m\u001b[0;34m)\u001b[0m\u001b[0;34m\u001b[0m\u001b[0;34m\u001b[0m\u001b[0m\n\u001b[0;32m----> 3\u001b[0;31m \u001b[0mprint\u001b[0m\u001b[0;34m(\u001b[0m\u001b[0mvowels\u001b[0m\u001b[0;34m.\u001b[0m\u001b[0madd\u001b[0m\u001b[0;34m(\u001b[0m\u001b[0mb\u001b[0m\u001b[0;34m)\u001b[0m\u001b[0;34m)\u001b[0m\u001b[0;34m\u001b[0m\u001b[0;34m\u001b[0m\u001b[0m\n\u001b[0m",
            "\u001b[0;31mAttributeError\u001b[0m: 'frozenset' object has no attribute 'add'"
          ]
        }
      ]
    },
    {
      "cell_type": "markdown",
      "source": [
        "🔟 User se ek character input lo aur check karo ke kya wo vowel set ke andar hai ya nahi (loop ke sath)."
      ],
      "metadata": {
        "id": "JMWvko4EZcTu"
      }
    },
    {
      "cell_type": "code",
      "source": [
        "vowels={\"a\",\"e\",\"i\",\"o\",\"u\"}\n",
        "word=input(\"koi letter type karo :\")\n",
        "if word in vowels:\n",
        "  print(word,\"is a vowels\" )\n",
        "else:\n",
        "  print(word,\"is not a vowels\")"
      ],
      "metadata": {
        "colab": {
          "base_uri": "https://localhost:8080/"
        },
        "id": "s9BezYCBZiU-",
        "outputId": "77859bc1-c1bf-44db-e9cd-093f520e0eb4"
      },
      "execution_count": 49,
      "outputs": [
        {
          "output_type": "stream",
          "name": "stdout",
          "text": [
            "koi letter type karo :p\n",
            "p is not a vowels\n"
          ]
        }
      ]
    }
  ]
}