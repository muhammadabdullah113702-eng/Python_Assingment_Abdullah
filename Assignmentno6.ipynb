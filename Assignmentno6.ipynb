{
  "nbformat": 4,
  "nbformat_minor": 0,
  "metadata": {
    "colab": {
      "provenance": []
    },
    "kernelspec": {
      "name": "python3",
      "display_name": "Python 3"
    },
    "language_info": {
      "name": "python"
    }
  },
  "cells": [
    {
      "cell_type": "markdown",
      "source": [
        "1️⃣ Apni 5 pasandeeda phalon ki list banao aur har phal ko loop se print karo."
      ],
      "metadata": {
        "id": "xxrHc4s38pMG"
      }
    },
    {
      "cell_type": "code",
      "source": [
        "Fruits=[\"Mango\",\"Apple\",\"Grapes\",\"Anar\",\"Strawberry\"]\n",
        "for Favorite_food in Fruits:\n",
        "  print(Favorite_food)"
      ],
      "metadata": {
        "colab": {
          "base_uri": "https://localhost:8080/"
        },
        "id": "1u6z-FQ48ofH",
        "outputId": "c81b7a5a-82eb-4067-ac01-60b1e3b5c5ba"
      },
      "execution_count": 25,
      "outputs": [
        {
          "output_type": "stream",
          "name": "stdout",
          "text": [
            "Mango\n",
            "Apple\n",
            "Grapes\n",
            "Anar\n",
            "Strawberry\n"
          ]
        }
      ]
    },
    {
      "cell_type": "markdown",
      "source": [
        "2️⃣ Ek tuple banao jisme 3 cheezein hon: naam, umar aur shehar. Har ek ko alag alag print karo."
      ],
      "metadata": {
        "id": "h_neU112-cGW"
      }
    },
    {
      "cell_type": "code",
      "execution_count": 26,
      "metadata": {
        "colab": {
          "base_uri": "https://localhost:8080/"
        },
        "id": "9NlHFjIT8Utq",
        "outputId": "e7e57c23-0599-4ea6-b96f-199221c96a14"
      },
      "outputs": [
        {
          "output_type": "stream",
          "name": "stdout",
          "text": [
            "Naam = Abdullah\n",
            "Age = 17\n",
            "City = Gujranwala\n"
          ]
        }
      ],
      "source": [
        "Tuple=(\"Abdullah\",17,\"Gujranwala\")\n",
        "print(\"Naam =\",Tuple[0])\n",
        "print(\"Age =\",Tuple[1])\n",
        "print(\"City =\",Tuple[2])"
      ]
    },
    {
      "cell_type": "markdown",
      "source": [
        "4️⃣ List me nayi cheezein add karo aur kuch delete karo. Update list print karo."
      ],
      "metadata": {
        "id": "ESqaJAOJAiUK"
      }
    },
    {
      "cell_type": "code",
      "source": [
        "Fruits=[\"Mango\",\"Apple\",\"Grapes\",\"Anar\",\"Strawberry\"]\n",
        "Fruits.append(\"Banana\")\n",
        "Fruits.append(\"Amrood\")\n",
        "Fruits.remove(\"Apple\")\n",
        "print(\"Updated Fruits =\",Fruits)\n"
      ],
      "metadata": {
        "colab": {
          "base_uri": "https://localhost:8080/"
        },
        "id": "6gJ5vLpVApV7",
        "outputId": "32a45985-1ac5-4aa2-a8cc-9202fd4d665c"
      },
      "execution_count": 27,
      "outputs": [
        {
          "output_type": "stream",
          "name": "stdout",
          "text": [
            "Updated Fruits = ['Mango', 'Grapes', 'Anar', 'Strawberry', 'Banana', 'Amrood']\n"
          ]
        }
      ]
    },
    {
      "cell_type": "markdown",
      "source": [
        "5️⃣ List ke items ki ginti loop ke zariye karo aur len() se bhi print karo."
      ],
      "metadata": {
        "id": "0WopEZP6B_h6"
      }
    },
    {
      "cell_type": "code",
      "source": [
        "Fruits=[\"Mango\",\"Apple\",\"Grapes\",\"Anar\",\"Strawberry\"]\n",
        "count = 0\n",
        "for items in Fruits:\n",
        "  count += 1\n",
        "print(\"loop ke zariya ginti =\",count)\n",
        "print(\"len() ka zariya ginti =\",len(Fruits))"
      ],
      "metadata": {
        "colab": {
          "base_uri": "https://localhost:8080/"
        },
        "id": "flXDq5YmB_H5",
        "outputId": "cfdb76b1-f26b-4df8-bf8e-bb2845df7354"
      },
      "execution_count": 28,
      "outputs": [
        {
          "output_type": "stream",
          "name": "stdout",
          "text": [
            "loop ke zariya ginti = 5\n",
            "len() ka zariya ginti = 5\n"
          ]
        }
      ]
    },
    {
      "cell_type": "markdown",
      "source": [
        "6️⃣ Tuple me koi value mojood hai ya nahi, ise in keyword ke zariye check karo."
      ],
      "metadata": {
        "id": "vsore50sDXbB"
      }
    },
    {
      "cell_type": "code",
      "source": [
        "Tuple=(\"Abdullah\",17,\"Gujranwala\")\n",
        "if \"Gujranwala\" in Tuple:\n",
        "  print(\"Haan 'Gujranwala' Tuple ma majood ha\")\n",
        "else:\n",
        "  print (\"Nahi 'Gujranwala' Tuple ma nahi ha\")\n",
        "if \"Honda\" in Tuple:\n",
        "  print(\"Haan 'Honda' Tuple ma majood ha\")\n",
        "else:\n",
        "  print(\"Nahi 'Honda' Tuple ma majood nai ha\")"
      ],
      "metadata": {
        "colab": {
          "base_uri": "https://localhost:8080/"
        },
        "id": "DLQSwIVgDdzI",
        "outputId": "47696ca9-f2a5-426c-8145-79e7db39083b"
      },
      "execution_count": 29,
      "outputs": [
        {
          "output_type": "stream",
          "name": "stdout",
          "text": [
            "Haan 'Gujranwala' Tuple ma majood ha\n",
            "Nahi 'Honda' Tuple ma majood nai ha\n"
          ]
        }
      ]
    },
    {
      "cell_type": "markdown",
      "source": [
        "8️⃣ Ek program likho jo list ko tuple me convert kare aur dono print kare."
      ],
      "metadata": {
        "id": "_T_8vakLFTsr"
      }
    },
    {
      "cell_type": "code",
      "source": [
        "Fruits=[\"Mango\",\"Apple\",\"Grapes\",\"Anar\",\"Strawberry\"]\n",
        "Fruits_Tuple = tuple(Fruits)\n",
        "print(\"List =\",Fruits)\n",
        "print(\"Tuple =\",Fruits_Tuple)"
      ],
      "metadata": {
        "colab": {
          "base_uri": "https://localhost:8080/"
        },
        "id": "Xe-9csJZFagp",
        "outputId": "5562bd35-31f8-4f96-af3c-f8f8bb300b85"
      },
      "execution_count": 34,
      "outputs": [
        {
          "output_type": "stream",
          "name": "stdout",
          "text": [
            "List = ['Mango', 'Apple', 'Grapes', 'Anar', 'Strawberry']\n",
            "Tuple = ('Mango', 'Apple', 'Grapes', 'Anar', 'Strawberry')\n"
          ]
        }
      ]
    },
    {
      "cell_type": "markdown",
      "source": [
        "🔟 Ek tuple banao jisme mixed data ho. Loop ke zariye har item ka type print karo."
      ],
      "metadata": {
        "id": "ToxKxEj_GQG4"
      }
    },
    {
      "cell_type": "code",
      "source": [
        "Mix_Tuple=(\"Abdullah\",12,14.9,True,[\"Aam\",\"Mango\"])\n",
        "for items in Mix_Tuple:\n",
        "  print(items,\" ki Type ya ha =\",type(items))"
      ],
      "metadata": {
        "colab": {
          "base_uri": "https://localhost:8080/"
        },
        "id": "V0vaU4j6GVgA",
        "outputId": "c5129531-d3cf-4db6-af67-0ee655e634ca"
      },
      "execution_count": 44,
      "outputs": [
        {
          "output_type": "stream",
          "name": "stdout",
          "text": [
            "Abdullah  ki Type ya ha = <class 'str'>\n",
            "12  ki Type ya ha = <class 'int'>\n",
            "14.9  ki Type ya ha = <class 'float'>\n",
            "True  ki Type ya ha = <class 'bool'>\n",
            "['Aam', 'Mango']  ki Type ya ha = <class 'list'>\n"
          ]
        }
      ]
    }
  ]
}